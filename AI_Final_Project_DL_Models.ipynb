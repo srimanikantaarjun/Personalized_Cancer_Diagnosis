{
  "nbformat": 4,
  "nbformat_minor": 0,
  "metadata": {
    "colab": {
      "name": "ai final project dl models.ipynb",
      "provenance": [],
      "collapsed_sections": []
    },
    "kernelspec": {
      "name": "python3",
      "display_name": "Python 3"
    }
  },
  "cells": [
    {
      "cell_type": "code",
      "metadata": {
        "colab": {
          "base_uri": "https://localhost:8080/"
        },
        "id": "SoycIrwb77fd",
        "outputId": "395a9abd-e5c8-4a4b-df51-5ef69fe94401"
      },
      "source": [
        "import pandas as pd\n",
        "import matplotlib.pyplot as plt\n",
        "import re\n",
        "import time\n",
        "import warnings\n",
        "import numpy as np\n",
        "from nltk.corpus import stopwords\n",
        "from sklearn.preprocessing import normalize\n",
        "from sklearn.feature_extraction.text import CountVectorizer\n",
        "from sklearn.manifold import TSNE\n",
        "import seaborn as sns\n",
        "\n",
        "from sklearn.metrics.classification import accuracy_score, log_loss\n",
        "from sklearn.feature_extraction.text import TfidfVectorizer\n",
        "from sklearn.linear_model import SGDClassifier\n",
        "\n",
        "from collections import Counter\n",
        "from scipy.sparse import hstack\n",
        "\n",
        "from sklearn.svm import SVC\n",
        "\n",
        "from collections import Counter, defaultdict\n",
        "from sklearn.calibration import CalibratedClassifierCV\n",
        "from sklearn.naive_bayes import MultinomialNB\n",
        "\n",
        "from sklearn.model_selection import train_test_split\n",
        "from sklearn.model_selection import GridSearchCV\n",
        "import math\n",
        "\n",
        "\n",
        "warnings.filterwarnings(\"ignore\")\n",
        "\n",
        "\n",
        "\n",
        "\n",
        "\n",
        "import nltk\n",
        "nltk.download('stopwords')"
      ],
      "execution_count": null,
      "outputs": [
        {
          "output_type": "stream",
          "text": [
            "/usr/local/lib/python3.6/dist-packages/sklearn/utils/deprecation.py:144: FutureWarning: The sklearn.metrics.classification module is  deprecated in version 0.22 and will be removed in version 0.24. The corresponding classes / functions should instead be imported from sklearn.metrics. Anything that cannot be imported from sklearn.metrics is now part of the private API.\n",
            "  warnings.warn(message, FutureWarning)\n",
            "/usr/local/lib/python3.6/dist-packages/sklearn/externals/six.py:31: FutureWarning: The module is deprecated in version 0.21 and will be removed in version 0.23 since we've dropped support for Python 2.7. Please rely on the official version of six (https://pypi.org/project/six/).\n",
            "  \"(https://pypi.org/project/six/).\", FutureWarning)\n",
            "/usr/local/lib/python3.6/dist-packages/sklearn/utils/deprecation.py:144: FutureWarning: The sklearn.neighbors.base module is  deprecated in version 0.22 and will be removed in version 0.24. The corresponding classes / functions should instead be imported from sklearn.neighbors. Anything that cannot be imported from sklearn.neighbors is now part of the private API.\n",
            "  warnings.warn(message, FutureWarning)\n"
          ],
          "name": "stderr"
        },
        {
          "output_type": "stream",
          "text": [
            "[nltk_data] Downloading package stopwords to /root/nltk_data...\n",
            "[nltk_data]   Package stopwords is already up-to-date!\n"
          ],
          "name": "stdout"
        },
        {
          "output_type": "execute_result",
          "data": {
            "text/plain": [
              "True"
            ]
          },
          "metadata": {
            "tags": []
          },
          "execution_count": 2
        }
      ]
    },
    {
      "cell_type": "code",
      "metadata": {
        "id": "C0m9cqE_8Ief"
      },
      "source": [
        "data = pd.read_csv('training_variants')"
      ],
      "execution_count": null,
      "outputs": []
    },
    {
      "cell_type": "code",
      "metadata": {
        "id": "1qMkIhjO8OEe"
      },
      "source": [
        "data_text =pd.read_csv(\"training_text\",sep=\"\\|\\|\",engine=\"python\",names=[\"ID\",\"TEXT\"],skiprows=1)"
      ],
      "execution_count": null,
      "outputs": []
    },
    {
      "cell_type": "code",
      "metadata": {
        "colab": {
          "base_uri": "https://localhost:8080/",
          "height": 204
        },
        "id": "7VRiSyAA8QMq",
        "outputId": "50bec4e6-ebe2-4a5c-9f49-3641223d39a1"
      },
      "source": [
        "data_text.head()"
      ],
      "execution_count": null,
      "outputs": [
        {
          "output_type": "execute_result",
          "data": {
            "text/html": [
              "<div>\n",
              "<style scoped>\n",
              "    .dataframe tbody tr th:only-of-type {\n",
              "        vertical-align: middle;\n",
              "    }\n",
              "\n",
              "    .dataframe tbody tr th {\n",
              "        vertical-align: top;\n",
              "    }\n",
              "\n",
              "    .dataframe thead th {\n",
              "        text-align: right;\n",
              "    }\n",
              "</style>\n",
              "<table border=\"1\" class=\"dataframe\">\n",
              "  <thead>\n",
              "    <tr style=\"text-align: right;\">\n",
              "      <th></th>\n",
              "      <th>ID</th>\n",
              "      <th>TEXT</th>\n",
              "    </tr>\n",
              "  </thead>\n",
              "  <tbody>\n",
              "    <tr>\n",
              "      <th>0</th>\n",
              "      <td>0</td>\n",
              "      <td>Cyclin-dependent kinases (CDKs) regulate a var...</td>\n",
              "    </tr>\n",
              "    <tr>\n",
              "      <th>1</th>\n",
              "      <td>1</td>\n",
              "      <td>Abstract Background  Non-small cell lung canc...</td>\n",
              "    </tr>\n",
              "    <tr>\n",
              "      <th>2</th>\n",
              "      <td>2</td>\n",
              "      <td>Abstract Background  Non-small cell lung canc...</td>\n",
              "    </tr>\n",
              "    <tr>\n",
              "      <th>3</th>\n",
              "      <td>3</td>\n",
              "      <td>Recent evidence has demonstrated that acquired...</td>\n",
              "    </tr>\n",
              "    <tr>\n",
              "      <th>4</th>\n",
              "      <td>4</td>\n",
              "      <td>Oncogenic mutations in the monomeric Casitas B...</td>\n",
              "    </tr>\n",
              "  </tbody>\n",
              "</table>\n",
              "</div>"
            ],
            "text/plain": [
              "   ID                                               TEXT\n",
              "0   0  Cyclin-dependent kinases (CDKs) regulate a var...\n",
              "1   1   Abstract Background  Non-small cell lung canc...\n",
              "2   2   Abstract Background  Non-small cell lung canc...\n",
              "3   3  Recent evidence has demonstrated that acquired...\n",
              "4   4  Oncogenic mutations in the monomeric Casitas B..."
            ]
          },
          "metadata": {
            "tags": []
          },
          "execution_count": 5
        }
      ]
    },
    {
      "cell_type": "markdown",
      "metadata": {
        "id": "xhQ5O7rNYk8I"
      },
      "source": [
        "**Data Pre-processing**"
      ]
    },
    {
      "cell_type": "code",
      "metadata": {
        "id": "E_72iaMm8SKm"
      },
      "source": [
        "stop_words = set(stopwords.words('english'))\n",
        "\n",
        "\n",
        "def nlp_preprocessing(total_text, index, column):\n",
        "    if type(total_text) is not int:\n",
        "        string = \"\"\n",
        "        # replace every special char with space\n",
        "        total_text = re.sub('[^a-zA-Z0-9\\n]', ' ', total_text)\n",
        "        # replace multiple spaces with single space\n",
        "        total_text = re.sub('\\s+',' ', total_text)\n",
        "        # converting all the chars into lower-case.\n",
        "        total_text = total_text.lower()\n",
        "        \n",
        "        for word in total_text.split():\n",
        "        # if the word is a not a stop word then retain that word from the data\n",
        "            if not word in stop_words:\n",
        "                string += word + \" \"\n",
        "        \n",
        "        data_text[column][index] = string"
      ],
      "execution_count": null,
      "outputs": []
    },
    {
      "cell_type": "code",
      "metadata": {
        "colab": {
          "base_uri": "https://localhost:8080/"
        },
        "id": "BIpb7lIJ8ULU",
        "outputId": "112cc45b-7fa6-488b-ba20-5dd07059d198"
      },
      "source": [
        "start_time = time.clock()\n",
        "for index, row in data_text.iterrows():\n",
        "    if type(row['TEXT']) is str:\n",
        "        nlp_preprocessing(row['TEXT'], index, 'TEXT')\n",
        "    else:\n",
        "        print(\"there is no text description for id:\",index)\n",
        "print('Time took for preprocessing the text :',time.clock() - start_time, \"seconds\")"
      ],
      "execution_count": null,
      "outputs": [
        {
          "output_type": "stream",
          "text": [
            "there is no text description for id: 1109\n",
            "there is no text description for id: 1277\n",
            "there is no text description for id: 1407\n",
            "there is no text description for id: 1639\n",
            "there is no text description for id: 2755\n",
            "Time took for preprocessing the text : 26.730524999999997 seconds\n"
          ],
          "name": "stdout"
        }
      ]
    },
    {
      "cell_type": "code",
      "metadata": {
        "colab": {
          "base_uri": "https://localhost:8080/",
          "height": 204
        },
        "id": "VHXH2Zhj8WsH",
        "outputId": "c0ddaa7f-7136-4d68-b821-1f1b84cc5582"
      },
      "source": [
        "result = pd.merge(data, data_text,on='ID', how='left')\n",
        "result.head()"
      ],
      "execution_count": null,
      "outputs": [
        {
          "output_type": "execute_result",
          "data": {
            "text/html": [
              "<div>\n",
              "<style scoped>\n",
              "    .dataframe tbody tr th:only-of-type {\n",
              "        vertical-align: middle;\n",
              "    }\n",
              "\n",
              "    .dataframe tbody tr th {\n",
              "        vertical-align: top;\n",
              "    }\n",
              "\n",
              "    .dataframe thead th {\n",
              "        text-align: right;\n",
              "    }\n",
              "</style>\n",
              "<table border=\"1\" class=\"dataframe\">\n",
              "  <thead>\n",
              "    <tr style=\"text-align: right;\">\n",
              "      <th></th>\n",
              "      <th>ID</th>\n",
              "      <th>Gene</th>\n",
              "      <th>Variation</th>\n",
              "      <th>Class</th>\n",
              "      <th>TEXT</th>\n",
              "    </tr>\n",
              "  </thead>\n",
              "  <tbody>\n",
              "    <tr>\n",
              "      <th>0</th>\n",
              "      <td>0</td>\n",
              "      <td>FAM58A</td>\n",
              "      <td>Truncating Mutations</td>\n",
              "      <td>1</td>\n",
              "      <td>cyclin dependent kinases cdks regulate variety...</td>\n",
              "    </tr>\n",
              "    <tr>\n",
              "      <th>1</th>\n",
              "      <td>1</td>\n",
              "      <td>CBL</td>\n",
              "      <td>W802*</td>\n",
              "      <td>2</td>\n",
              "      <td>abstract background non small cell lung cancer...</td>\n",
              "    </tr>\n",
              "    <tr>\n",
              "      <th>2</th>\n",
              "      <td>2</td>\n",
              "      <td>CBL</td>\n",
              "      <td>Q249E</td>\n",
              "      <td>2</td>\n",
              "      <td>abstract background non small cell lung cancer...</td>\n",
              "    </tr>\n",
              "    <tr>\n",
              "      <th>3</th>\n",
              "      <td>3</td>\n",
              "      <td>CBL</td>\n",
              "      <td>N454D</td>\n",
              "      <td>3</td>\n",
              "      <td>recent evidence demonstrated acquired uniparen...</td>\n",
              "    </tr>\n",
              "    <tr>\n",
              "      <th>4</th>\n",
              "      <td>4</td>\n",
              "      <td>CBL</td>\n",
              "      <td>L399V</td>\n",
              "      <td>4</td>\n",
              "      <td>oncogenic mutations monomeric casitas b lineag...</td>\n",
              "    </tr>\n",
              "  </tbody>\n",
              "</table>\n",
              "</div>"
            ],
            "text/plain": [
              "   ID    Gene  ... Class                                               TEXT\n",
              "0   0  FAM58A  ...     1  cyclin dependent kinases cdks regulate variety...\n",
              "1   1     CBL  ...     2  abstract background non small cell lung cancer...\n",
              "2   2     CBL  ...     2  abstract background non small cell lung cancer...\n",
              "3   3     CBL  ...     3  recent evidence demonstrated acquired uniparen...\n",
              "4   4     CBL  ...     4  oncogenic mutations monomeric casitas b lineag...\n",
              "\n",
              "[5 rows x 5 columns]"
            ]
          },
          "metadata": {
            "tags": []
          },
          "execution_count": 8
        }
      ]
    },
    {
      "cell_type": "code",
      "metadata": {
        "id": "UUZE3xk98at-"
      },
      "source": [
        "result.loc[result['TEXT'].isnull(),'TEXT'] = result['Gene'] +' '+result['Variation']"
      ],
      "execution_count": null,
      "outputs": []
    },
    {
      "cell_type": "code",
      "metadata": {
        "id": "ZHAZ3iZU8gHP"
      },
      "source": [
        "from sklearn.preprocessing import LabelEncoder"
      ],
      "execution_count": null,
      "outputs": []
    },
    {
      "cell_type": "code",
      "metadata": {
        "id": "ZmLDp4no8lrq"
      },
      "source": [
        "le = LabelEncoder() \n",
        "  \n",
        "result['Gene']= le.fit_transform(result['Gene']) \n",
        "result['Variation']= le.fit_transform(result['Variation'])"
      ],
      "execution_count": null,
      "outputs": []
    },
    {
      "cell_type": "code",
      "metadata": {
        "colab": {
          "base_uri": "https://localhost:8080/",
          "height": 204
        },
        "id": "Iv85lPZC8n2_",
        "outputId": "cfaa7b44-a61f-4155-d505-23177491fddc"
      },
      "source": [
        "result.head()"
      ],
      "execution_count": null,
      "outputs": [
        {
          "output_type": "execute_result",
          "data": {
            "text/html": [
              "<div>\n",
              "<style scoped>\n",
              "    .dataframe tbody tr th:only-of-type {\n",
              "        vertical-align: middle;\n",
              "    }\n",
              "\n",
              "    .dataframe tbody tr th {\n",
              "        vertical-align: top;\n",
              "    }\n",
              "\n",
              "    .dataframe thead th {\n",
              "        text-align: right;\n",
              "    }\n",
              "</style>\n",
              "<table border=\"1\" class=\"dataframe\">\n",
              "  <thead>\n",
              "    <tr style=\"text-align: right;\">\n",
              "      <th></th>\n",
              "      <th>ID</th>\n",
              "      <th>Gene</th>\n",
              "      <th>Variation</th>\n",
              "      <th>Class</th>\n",
              "      <th>TEXT</th>\n",
              "    </tr>\n",
              "  </thead>\n",
              "  <tbody>\n",
              "    <tr>\n",
              "      <th>0</th>\n",
              "      <td>0</td>\n",
              "      <td>85</td>\n",
              "      <td>2629</td>\n",
              "      <td>1</td>\n",
              "      <td>cyclin dependent kinases cdks regulate variety...</td>\n",
              "    </tr>\n",
              "    <tr>\n",
              "      <th>1</th>\n",
              "      <td>1</td>\n",
              "      <td>39</td>\n",
              "      <td>2856</td>\n",
              "      <td>2</td>\n",
              "      <td>abstract background non small cell lung cancer...</td>\n",
              "    </tr>\n",
              "    <tr>\n",
              "      <th>2</th>\n",
              "      <td>2</td>\n",
              "      <td>39</td>\n",
              "      <td>1897</td>\n",
              "      <td>2</td>\n",
              "      <td>abstract background non small cell lung cancer...</td>\n",
              "    </tr>\n",
              "    <tr>\n",
              "      <th>3</th>\n",
              "      <td>3</td>\n",
              "      <td>39</td>\n",
              "      <td>1667</td>\n",
              "      <td>3</td>\n",
              "      <td>recent evidence demonstrated acquired uniparen...</td>\n",
              "    </tr>\n",
              "    <tr>\n",
              "      <th>4</th>\n",
              "      <td>4</td>\n",
              "      <td>39</td>\n",
              "      <td>1447</td>\n",
              "      <td>4</td>\n",
              "      <td>oncogenic mutations monomeric casitas b lineag...</td>\n",
              "    </tr>\n",
              "  </tbody>\n",
              "</table>\n",
              "</div>"
            ],
            "text/plain": [
              "   ID  Gene  ...  Class                                               TEXT\n",
              "0   0    85  ...      1  cyclin dependent kinases cdks regulate variety...\n",
              "1   1    39  ...      2  abstract background non small cell lung cancer...\n",
              "2   2    39  ...      2  abstract background non small cell lung cancer...\n",
              "3   3    39  ...      3  recent evidence demonstrated acquired uniparen...\n",
              "4   4    39  ...      4  oncogenic mutations monomeric casitas b lineag...\n",
              "\n",
              "[5 rows x 5 columns]"
            ]
          },
          "metadata": {
            "tags": []
          },
          "execution_count": 12
        }
      ]
    },
    {
      "cell_type": "code",
      "metadata": {
        "id": "Jh3sXXs18qOS"
      },
      "source": [
        "result['Text-final'] = result['TEXT']+ \" \" +result['Gene'].astype(str)+ \" \"+result['Variation'].astype(str)"
      ],
      "execution_count": null,
      "outputs": []
    },
    {
      "cell_type": "code",
      "metadata": {
        "colab": {
          "base_uri": "https://localhost:8080/",
          "height": 140
        },
        "id": "7EP2--2s8ump",
        "outputId": "4ec9af38-32e6-490f-dfbe-27ebe21a6c3e"
      },
      "source": [
        "result['Text-final'][0]"
      ],
      "execution_count": null,
      "outputs": [
        {
          "output_type": "execute_result",
          "data": {
            "application/vnd.google.colaboratory.intrinsic+json": {
              "type": "string"
            },
            "text/plain": [
              "'cyclin dependent kinases cdks regulate variety fundamental cellular processes cdk10 stands one last orphan cdks activating cyclin identified kinase activity revealed previous work shown cdk10 silencing increases ets2 v ets erythroblastosis virus e26 oncogene homolog 2 driven activation mapk pathway confers tamoxifen resistance breast cancer cells precise mechanisms cdk10 modulates ets2 activity generally functions cdk10 remain elusive demonstrate cdk10 cyclin dependent kinase identifying cyclin activating cyclin cyclin orphan cyclin product fam58a whose mutations cause star syndrome human developmental anomaly whose features include toe syndactyly telecanthus anogenital renal malformations show star syndrome associated cyclin mutants unable interact cdk10 cyclin silencing phenocopies cdk10 silencing increasing c raf conferring tamoxifen resistance breast cancer cells cdk10 cyclin phosphorylates ets2 vitro cells positively controls ets2 degradation proteasome ets2 protein levels increased cells derived star patient increase attributable decreased cyclin levels altogether results reveal additional regulatory mechanism ets2 plays key roles cancer development also shed light molecular mechanisms underlying star syndrome cyclin dependent kinases cdks play pivotal role control number fundamental cellular processes 1 human genome contains 21 genes encoding proteins considered members cdk family owing sequence similarity bona fide cdks known activated cyclins 2 although discovered almost 20 ago 3 4 cdk10 remains one two cdks without identified cyclin partner knowledge gap largely impeded exploration biological functions cdk10 act positive cell cycle regulator cells 5 6 tumor suppressor others 7 8 cdk10 interacts ets2 v ets erythroblastosis virus e26 oncogene homolog 2 transcription factor inhibits transcriptional activity unknown mechanism 9 cdk10 knockdown derepresses ets2 increases expression c raf protein kinase activates mapk pathway induces resistance mcf7 cells tamoxifen 6 deorphanize cdk10 identifying cyclin product fam58a binding partner mutations gene predict absence truncation cyclin associated star syndrome whose features include toe syndactyly telecanthus anogenital renal malformations heterozygous females 10 however functions cyclin pathogenesis star syndrome remain unknown show recombinant cdk10 cyclin heterodimer active protein kinase phosphorylates ets2 vitro cyclin silencing phenocopies cdk10 silencing increasing c raf phospho erk expression levels inducing tamoxifen resistance estrogen receptor er breast cancer cells show cdk10 cyclin positively controls ets2 degradation proteasome phosphorylation two neighboring serines finally detect increased ets2 expression level cells derived star patient demonstrate attributable decreased cyclin expression level observed cells previous sectionnext sectionresultsa yeast two hybrid y2h screen unveiled interaction signal cdk10 mouse protein whose c terminal half presents strong sequence homology human fam58a gene product whose proposed name cyclin 11 thus performed y2h mating assays determine whether human cdk10 interacts human cyclin fig 1 c longest cdk10 isoform p1 expressed bait protein produced strong interaction phenotype full length cyclin expressed prey protein detectable phenotype cyclin d1 p21 cip1 cdi1 kap known binding partners cdks fig 1b cdk1 cdk3 also produced y2h signals cyclin albeit notably weaker observed cdk10 fig 1b interaction phenotype also observed full length cyclin cdk10 proteins expressed bait prey respectively fig s1a tested different isoforms cdk10 cyclin originating alternative gene splicing two truncated cyclin proteins corresponding hypothetical products two mutated fam58a genes found star syndrome patients 10 none shorter isoforms produced interaction phenotypes fig 1 c fig s1a fig 1 new window download pptfig 1 cdk10 cyclin form interaction complex schematic representation different protein isoforms analyzed y2h assays amino acid numbers indicated black boxes indicate internal deletions red box indicates differing amino acid sequence compared cdk10 p1 b y2h assay set cdk proteins expressed baits fusion lexa dna binding domain cdk interacting proteins expressed preys fusion b42 transcriptional activator peg202 pjg4 5 empty bait prey plasmids expressing lexa b42 respectively lacz used reporter gene blue yeast indicative y2h interaction phenotype c y2h assay different cdk10 cyclin isoforms amino terminal region ets2 known interact cdk10 9 also assayed western blot analysis myc cdk10 wt kd cycm v5 6his expression levels transfected hek293 cells e western blot analysis myc cdk10 wt kd immunoprecipitates obtained using anti myc antibody inputs correspond 10 g total lysates obtained hek293 cells coexpressing myc cdk10 wt kd cycm v5 6his f western blot analysis immunoprecipitates obtained using anti cdk10 antibody control goat antibody human breast cancer mcf7 cells input corresponds 30 g mcf7 total cell lysates lower band doublet observed upper panel comigrates exogenously expressed untagged cdk10 thus corresponds endogenous cdk10 upper band doublet corresponds nonspecific signal demonstrated insensitivity either overexpression cdk10 seen left lane silencing cdk10 fig s2b another experiment longer gel migration shown fig s1d next examined ability cdk10 cyclin interact expressed human cells fig 1 e tested wild type cdk10 wt kinase dead kd mutant bearing d181a amino acid substitution abolishes atp binding 12 expressed cyclin v5 6his myc cdk10 wt kd human embryonic kidney cell line hek293 expression level cyclin v5 6his significantly increased upon coexpression myc cdk10 wt kd lesser extent myc cdk10 wt kd increased upon coexpression cyclin v5 6his fig 1d immunoprecipitated myc cdk10 proteins detected presence cyclin cdk10 wt kd immunoprecipitates proteins coexpressed pair wise fig 1e confirmed observations detecting presence myc cdk10 cyclin v5 6his immunoprecipitates fig s1b experiments confirmed lack robust interaction cdk10 p2 isoform cyclin fig s1c detect interaction endogenous proteins performed immunoprecipitations nontransfected mcf7 cells derived human breast cancer cdk10 cyclin antibodies detected cognate endogenous proteins western blotting readily detected cyclin immunoprecipitates obtained cdk10 antibody control antibody fig 1f results confirm physical interaction cdk10 cyclin human cells unveil hypothesized cdk10 cyclin protein kinase activity produced gst cdk10 strepii cyclin fusion proteins insect cells either individually combination observed gst cdk10 strepii cyclin copurified thus confirming interaction yet another cellular model fig 2a performed vitro kinase assays purified proteins using histone h1 generic substrate histone h1 phosphorylation detected lysates cells coexpressing gst cdk10 strepii cyclin phosphorylation detected gst cdk10 strepii cyclin expressed alone strepii cyclin coexpressed gst cdk10 kd fig 2a next investigated whether ets2 known interact cdk10 9 fig 1c phosphorylation substrate cdk10 cyclin detected strong phosphorylation ets2 gst cdk10 strepii cyclin purified heterodimer whereas phosphorylation detected using gst cdk10 alone gst cdk10 kd strepii cyclin heterodimer fig 2b fig 2 new window download pptfig 2 cdk10 cyclin dependent protein kinase vitro protein kinase assay histone h1 lysates insect cells expressing different proteins purified glutathione sepharose matrix capture gst cdk10 wt kd fusion proteins alone complex str cycm fusion protein purified protein expression levels analyzed western blots top upper middle kinase activity determined autoradiography histone h1 whose added amounts visualized coomassie staining lower middle bottom b using purified recombinant 6his ets2 substrate cdk10 silencing shown increase ets2 driven c raf transcription activate mapk pathway 6 investigated whether cyclin also involved regulatory pathway aim highly specific silencing used sirna pools mix four different sirnas low final concentration 10 nm cdk10 cyclin sirna pools silenced expression cognate targets fig 3 c fig s2 interestingly cyclin sirna pool also caused marked decrease cdk10 protein level fig 3a fig s2b results shown fig 1d suggest cyclin binding stabilizes cdk10 cyclin silencing induced increase c raf protein mrna levels fig 3 b c phosphorylated erk1 erk2 protein levels fig s3b similarly cdk10 silencing expected effects 6 cdk10 cyclin silencing decreased sensitivity er mcf7 cells tamoxifen similar extent combined silencing genes result higher resistance drug fig s3c altogether observations demonstrate functional interaction cyclin cdk10 negatively controls ets2 fig 3 new window download pptfig 3 cyclin silencing regulates c raf expression western blot analysis endogenous cdk10 cyclin expression levels mcf7 cells response sirna mediated gene silencing b western blot analysis endogenous c raf expression levels mcf7 cells response cdk10 cyclin silencing quantification shown fig s3a c quantitative rt pcr analysis cdk10 cyclin c raf mrna levels response cdk10 upper cyclin lower silencing p 0 01 p 0 001 wished explore mechanism cdk10 cyclin controls ets2 ets2 short lived protein degraded proteasome 13 straightforward hypothesis cdk10 cyclin positively controls ets2 degradation thus examined impact cdk10 cyclin silencing ets2 expression levels silencing cdk10 cyclin caused increase expression levels exogenously expressed flag ets2 protein fig s4a well endogenous ets2 protein fig 4a increase attributable increased ets2 mrna levels marginally fluctuated response cdk10 cyclin silencing fig s4b examined expression levels flag tagged ets2 protein expressed alone combination myc cdk10 cdk10 kd without cyclin v5 6his flag ets2 readily detected expressed alone lesser extent coexpressed cdk10 kd however expression level dramatically decreased coexpressed cdk10 alone cdk10 cyclin fig 4b observations suggest endogenous cyclin levels excess compared cdk10 mcf7 cells show major decrease ets2 levels observed upon cdk10 coexpression involves cdk10 kinase activity treatment cells coexpressing flag ets2 cdk10 cyclin proteasome inhibitor mg132 largely rescued flag ets2 expression levels fig 4b fig 4 new window download pptfig 4 cdk10 cyclin controls ets2 stability human cancer derived cells western blot analysis endogenous ets2 expression levels mcf7 cells response sirna mediated cdk10 cyclin silencing quantification shown fig s4b b western blot analysis exogenously expressed flag ets2 protein levels mcf7 cells cotransfected empty vectors coexpressing myc cdk10 wt kd myc cdk10 cycm v5 6his latter cells treated 16 h mg132 proteasome inhibitor proper expression cdk10 cyclin tagged proteins verified western blot analysis c western blot analysis expression levels exogenously expressed flag ets2 wild type mutant proteins mcf7 cells absence c response myc cdk10 cycm v5 6his expression quantifications shown fig s4 c mass spectrometry analysis recombinant ets2 phosphorylated cdk10 cyclin vitro revealed existence multiple phosphorylated residues among two neighboring phospho serines positions 220 225 may form phosphodegron 14 figs s5 s8 confirm finding compared phosphorylation level recombinant ets2wt ets2sasa protein mutant bearing alanine substitutions two serines expected existence multiple phosphorylation sites detected small reproducible significant decrease phosphorylation level ets2sasa compared ets2wt fig s9 thus confirming ser220 ser225 phosphorylated cdk10 cyclin establish direct link ets2 phosphorylation cdk10 cyclin degradation examined expression levels flag ets2sasa absence cdk10 cyclin coexpression differ significantly flag ets2 contrary flag ets2dbm bearing deletion n terminal destruction box previously shown involved apc cdh1 mediated degradation ets2 13 fig 4c however contrary flag ets2 wild type expression level flag ets2sasa remained insensitive cdk10 cyclin coexpression fig 4d altogether results suggest cdk10 cyclin directly controls ets2 degradation phosphorylation two serines finally studied lymphoblastoid cell line derived patient star syndrome bearing fam58a mutation c 555 1g predicted result aberrant splicing 10 accordance incomplete skewing x chromosome inactivation previously found patient detected decreased expression level cyclin protein star cell line compared control lymphoblastoid cell line line preceding observations detected increased expression level ets2 protein star cell line compared control fig 5a fig s10a examined quantitative rt pcr mrna expression levels corresponding genes star cell line showed decreased expression level cyclin mrna expression level ets2 mrna similar control cell line fig 5b demonstrate increase ets2 protein expression indeed result decreased cyclin expression observed star patient derived cell line expressed cyclin v5 6his cell line expression caused decrease ets2 protein levels fig 5c fig 5 new window download pptfig 5 decreased cyclin expression star patient derived cells results increased ets2 protein level western blot analysis cyclin ets2 protein levels star patient derived lymphoblastoid cell line control lymphoblastoid cell line derived healthy individual quantification shown fig s10a b quantitative rt pcr analysis cyclin ets2 mrna levels cells p 0 001 c western blot analysis ets2 protein levels star patient derived lymphoblastoid cell line transfected empty vector vector directing expression cyclin v5 6his another western blot revealing endogenously exogenously expressed cyclin levels shown fig s10b quantification ets2 protein levels shown fig s10c previous sectionnext sectiondiscussionin work unveil interaction cdk10 last orphan cdk discovered pregenomic era 2 cyclin cyclin associated human genetic disease far whose functions remain unknown 10 closest paralogs cdk10 within cdk family cdk11 proteins interact l type cyclins 15 interestingly closest paralog cyclins within cyclin family cyclin fig s11 fact none shorter cdk10 isoforms interact robustly cyclin suggests alternative splicing cdk10 gene 16 17 plays important role regulating cdk10 functions functional relevance interaction cdk10 cyclin supported different observations proteins seem enhance stability judged increased expression levels partner exogenously coexpressed fig 1d much reduced endogenous cdk10 expression level observed response cyclin silencing fig 3a fig s2b cdk10 subject ubiquitin mediated degradation 18 observations suggest cyclin protects cdk10 degradation cyclin partner cdk10 least mcf7 cells also suggest cyclin stability enhanced upon binding cdk10 independently kinase activity seen cyclin c cdk8 19 uncover cyclin dependent cdk10 protein kinase activity vitro thus demonstrating protein named cdk sole basis amino acid sequence indeed genuine cyclin dependent kinase y2h assays reveal truncated cyclin proteins corresponding hypothetical products two star syndrome associated fam58a mutations produce interaction phenotype cdk10 hence regardless whether mutated mrnas undergo nonsense mediated decay suggested decreased cyclin mrna levels star cells shown fig 5b give rise truncated cyclin proteins females affected star syndrome must exhibit compromised cdk10 cyclin kinase activity least tissues specific developmental stages show ets2 known interactor cdk10 phosphorylation substrate cdk10 cyclin vitro cdk10 cyclin kinase activity positively controls ets2 degradation proteasome control seems exerted fine mechanism judged sensitivity ets2 levels partially decreased cdk10 cyclin levels achieved mcf7 cells observed star cells respectively findings offer straightforward explanation already reported regulation ets2 driven transcription c raf response cdk10 silencing 6 bring evidence cdk10 cyclin directly controls ets2 degradation phosphorylation two neighboring serines may form noncanonical trcp phosphodegron dsmcpas 14 none two serines precede proline conform usual cdk phosphorylation sites however multiple called transcriptional cdks cdk7 8 9 11 cdk10 may belong fig s11 shown phosphorylate variety motifs non proline directed fashion especially context molecular docking substrate 20 hypothesized high affinity interaction cdk10 pointed domain ets2 6 9 fig 1c would allow docking mediated phosphorylation atypical sites control ets2 degradation involves number players including apc cdh1 13 cullin ring ligase crl4 21 formal identification ubiquitin ligase involved cdk10 cyclin pathway elucidation concerted action ubiquitin ligases regulate ets2 degradation require studies results present number significant biological medical implications first shed light regulation ets2 plays important role development 22 frequently deregulated many cancers 23 second results contribute understanding molecular mechanisms causing tamoxifen resistance associated reduced cdk10 expression levels suggest like cdk10 6 cyclin could also predictive clinical marker hormone therapy response er positive breast cancer patients third findings offer interesting hypothesis molecular mechanisms underlying star syndrome ets2 transgenic mice showing less twofold overexpression ets2 present severe cranial abnormalities 24 observed star patients could thus caused least part increased ets2 protein levels another expected consequence enhanced ets2 expression levels would decreased risk develop certain types cancers increased risk develop others studies various mouse models including models syndrome three copies ets2 exist revealed ets2 dosage repress promote tumor growth hence ets2 exerts noncell autonomous functions cancer 25 intringuingly one star patients identified far diagnosed nephroblastoma 26 finally findings facilitate general exploration biological functions cdk10 particular role control cell division previous studies suggested either positive role cell cycle control 5 6 tumor suppressive activity cancers 7 8 severe growth retardation exhibited star patients strongly suggests cdk10 cyclin plays important role control cell proliferation previous sectionnext sectionmaterials methodscloning cdk10 cyclin cdnas plasmid constructions tamoxifen response analysis quantitative rt pcr mass spectrometry experiments antibody production detailed si materials methods yeast two hybrid interaction assays performed yeast interaction mating assays previously described 27 mammalian cell cultures transfections grew human hek293 mcf7 cells dmem supplemented 10 vol vol fbs invitrogen grew lymphoblastoid cells rpmi 1640 glutamax supplemented 15 vol vol fbs transfected hek293 mcf7 cells using lipofectamine 2000 invitrogen plasmids lipofectamine rnaimax invitrogen sirnas jetprime polyplus plasmids sirnas combinations according manufacturers instructions transfected lymphoblastoid cells electroporation neon invitrogen ets2 stability studies treated mcf7 cells 32 h transfection 10 mg132 fisher scientific 16 h coimmunoprecipitation western blot experiments collected cells scraping pbs centrifugation lymphoblastoid cells lysed sonication lysis buffer containing 60 mm glycerophosphate 15 mm p nitrophenylphosphate 25 mm 3 n morpholino propanesulfonic acid mops ph 7 2 15 mm egta 15 mm mgcl2 1 mm na vanadate 1 mm naf 1mm phenylphosphate 0 1 nonidet p 40 protease inhibitor mixture roche spun lysates 15 min 20 000 g 4 c collected supernatants determined protein content using bradford assay performed immunoprecipitation experiments 500 g total proteins lysis buffer precleared lysates 20 l protein g agarose beads incubated 1 h 4 c rotating wheel added 5 g antibody supernatants incubated 1 h 4 c rotating wheel added 20 l protein g agarose beads incubated 1 h 4 c rotating wheel collected beads centrifugation 30 18 000 g 4 c washed three times bead buffer containing 50 mm tris ph 7 4 5 mm naf 250 mm nacl 5 mm edta 5 mm egta 0 1 nonidet p 40 protease inhibitor coktail roche directly added sample buffer washed pellets heat denatured proteins ran samples 10 bis tris sds page transferred proteins onto hybond nitrocellulose membranes processed blots according standard procedures western blot experiments used following primary antibodies anti myc abcam ab9106 1 2 000 anti v5 invitrogen r960 1 5 000 anti tubulin santa cruz biotechnology b 7 1 500 anti cdk10 covalab pab0847p 1 500 santa cruz biotechnology c 19 1 500 anti cycm home made dilution 1 500 covalab pab0882 p dilution 1 500 anti raf1 santa cruz biotechnology c 20 1 1 000 anti ets2 santa cruz biotechnology c 20 1 1 000 anti flag sigma f7425 1 1 000 anti actin sigma a5060 1 5 000 used hrp coupled anti goat santa cruz biotechnology sc 2033 dilution 1 2 000 anti mouse bio rad 170 6516 dilution 1 3 000 anti rabbit bio rad 172 1019 1 5 000 secondary antibodies revealed blots enhanced chemiluminescence supersignal west femto thermo scientific production purification recombinant proteins gst cdk10 kd strepii cycm generated recombinant bacmids dh10bac escherichia coli baculoviruses sf9 cells using bac bac system described provider invitrogen infected sf9 cells gst cdk10 gst cdk10kd producing viruses coinfected cells strepii cycm producing viruses collected cells 72 h infection purify gst fusion proteins spun 250 ml cells resuspended pellet 40 ml lysis buffer pbs 250 mm nacl 0 5 nonidet p 40 50 mm naf 10 mm glycerophosphate 0 3 mm na vanadate containing protease inhibitor mixture roche lysed cells sonication spun lysate 30 min 15 000 g collected soluble fraction added 1 ml glutathione sepharose matrix incubated 1 h 4 c washed four times lysis buffer one time kinase buffer see finally resuspended beads 100 l kinase buffer containing 10 vol vol glycerol storage 6his ets2 transformed origami2 de3 novagen 6his ets2 expression vector induced expression 0 2 mm isopropyl 1 thiogalactopyranoside 3 h 22 c purify 6his ets2 spun 50 ml cells resuspended pellet 2 ml lysis buffer pbs 300 mm nacl 10 mm imidazole 1 mm dtt 0 1 nonidet p 40 containing protease inhibitor mixture without edta roche lysed cells 1 6 bar using cell disruptor spun lysate 10 min 20 000 g collected soluble fraction added 200 l cobalt beads thermo scientific 1 h incubation 4 c rotating wheel washed four times lysis buffer elute incubated beads 30 min elution buffer pbs 250 mm imidazole ph 7 6 containing protease inhibitor mixture spun 30 10 000 g collected eluted protein protein kinase assays mixed glutathione sepharose beads harboring gst cdk10 wt kd either monomeric complexed strepii cycm 22 7 bsa 15 mm dtt 100 atp 5 ci atp 32p 7 75 histone h1 1 6his ets2 added kinase buffer 25 mm tris hcl 10 mm mgcl2 1 mm egta 1 mm dtt 3 7 heparin ph 7 5 total volume 30 l incubated reactions 30 min 30 c added laemli sample buffer heat denatured samples ran 10 bis tris sds page cut gel slices detect gst cdk10 strepii cycm western blotting stained gel slices containing substrate coomassie r 250 bio rad dried detected incorporated radioactivity autoradiography identified four unrelated girls anogenital renal malformations dysmorphic facial features normal intellect syndactyly toes similar combination features reported previously mother daughter pair1 table 1 supplementary note online authors noted clinical overlap townes brocks syndrome suggested phenotype represented separate autosomal dominant entity mim601446 define cardinal features syndrome characteristic facial appearance apparent telecanthus broad tripartite nasal tip variable syndactyly toes 2 5 hypoplastic labia anal atresia urogenital malformations fig 1a h also observed variety features table 1 figure 1 clinical molecular characterization star syndrome figure 1 clinical molecular characterization star syndrome f facial appearances cases 1 3 apparent telecanthus dysplastic ears thin upper lips c e toe syndactyly 2 5 3 5 4 5 b f cases illustrate recognizable features star syndrome specific parental consent obtained publication photographs anal atresia hypoplastic labia shown g h x ray films feet case 2 showing four rays left delta shaped 4th 5th metatarsals right h compare clinical picture array cgh data log2 ratio represents copy number loss six probes spanning 37 9 50 7 kb one probe positioned within fam58a deletion remove parts functional genes j schematic structure fam58a position mutations fam58a five coding exons boxes cyclin domain green encoded exons 2 4 horizontal arrow indicates deletion extending 5 case 1 includes exons 1 2 whereas horizontal line exon 5 indicates deletion found case 3 removes exon 5 3 sequence pink horizontal bars boxes indicate amplicons used qpcr sequencing one alternative exon 5 amplicon indicated space constraints mutation 201dupt case 4 results immediate stop codon 555 1g 555 1g splice mutations cases 2 5 6 predicted deleterious alter conserved splice donor acceptor site intron 4 respectively full size image 97 kb table 1 clinical features star syndrome cases table 1 clinical features star syndrome cases full table basis phenotypic overlap townes brocks okihiro feingold syndromes analyzed sall1 ref 2 sall4 ref 3 mycn4 found mutations genes supplementary methods online next carried genome wide high resolution oligonucleotide array comparative genomic hybridization cgh 5 analysis supplementary methods genomic dna severely affected individual case 1 lower lid coloboma epilepsy syringomyelia identified heterozygous deletion 37 9 50 7 kb xq28 removed exons 1 2 fam58a fig 1i j using real time pcr confirmed deletion child excluded unaffected parents supplementary fig 1a online supplementary methods supplementary table 1 online cgh customized oligonucleotide array enriched probes xq28 followed breakpoint cloning defined exact deletion size 40 068 bp g 152 514 164 152 554 231del chromosome x ncbi build 36 2 fig 1j supplementary figs 2 3 online deletion removes coding regions exons 1 2 well intron 1 2 774 bp 492 bp intron 2 36 608 bp 5 sequence including 5 utr entire krt18p48 pseudogene ncbi gene id 340598 paternity proven using routine methods find deletions overlapping fam58a available copy number variation cnv databases subsequently carried qpcr analysis three affected individuals cases 2 3 4 mother daughter pair literature cases 5 6 case 3 detected de novo heterozygous deletion 1 1 10 3 kb overlapping exon 5 supplementary fig 1b online using xq28 targeted array cgh breakpoint cloning identified deletion 4 249 bp g 152 504 123 152 508 371del chromosome x ncbi build 36 2 fig 1j supplementary figs 2 3 removed 1 265 bp intron 4 exon 5 including 3 utr 2 454 bp 3 sequence found heterozygous fam58a point mutations remaining cases fig 1j supplementary fig 2 supplementary methods supplementary table 1 case 2 identified mutation 555 1g affecting splice donor site intron 4 case 4 identified frameshift mutation 201dupt immediately results premature stop codon n68xfsx1 cases 5 6 detected mutation 556 1g alters splice acceptor site intron 4 validated point mutations deletions independent rounds pcr sequencing qpcr confirmed paternity de novo status point mutations deletions sporadic cases none mutations seen dna 60 unaffected female controls larger deletions involving fam58a found 93 unrelated array cgh investigations analyzing x chromosome inactivation supplementary methods supplementary fig 4 online found complete skewing x inactivation cases 1 3 6 almost complete skewing case 2 suggesting cells carrying mutation active x chromosome growth disadvantage fetal development using rt pcr rna lymphoblastoid cells case 2 supplementary fig 2 find aberrant splice products additional evidence mutated allele inactivated furthermore fam58a subjected x inactivation6 cases 1 3 parental origin deletions could determined result lack informative snps case 5 mother case 6 gave birth two boys clinically unaffected samples available cannot exclude condition lethal males fetal losses reported families function fam58a unknown gene consists five coding exons 642 bp coding region encodes protein 214 amino acids genbank lists mrna length 1 257 bp reference sequence nm 152274 2 expression gene est data found 27 48 adult tissues including kidney colon cervix uterus heart ncbi expression viewer unigene hs 496943 expression also noted 24 26 listed tumor tissues well embryo fetus genes homologous fam58a ncbi homologene 13362 found x chromosome chimpanzee dog zebrafish similar gene chromosome 23 however mouse rat true homologs species similar intronless genes chromosomes 11 mouse 10 rat likely arising retrotransposon insertion event murine x chromosome flanking genes atp2b3 dusp9 conserved remnants fam58a sequence detected fam58a contains cyclin box fold domain protein binding domain found cyclins role cell cycle transcription control human phenotype resulting cyclin gene mutation yet reported homozygous knockout mice ccnd1 encoding cyclin d1 viable small reduced lifespan also dystrophic changes retina likely result decreased cell proliferation degeneration photoreceptor cells embryogenesis7 8 cyclin d1 colocalizes sall4 nucleus proteins cooperatively mediate transcriptional repression9 phenotype cases overlaps considerably townes brocks syndrome caused sall1 mutations1 carried co immunoprecipitation find sall1 sall4 would interact fam58a manner similar observed sall4 cyclin d1 found fam58a interacts sall1 sall4 supplementary fig 5 online supporting hypothesis fam58a sall1 participate developmental pathway fam58a mutations lead star syndrome growth retardation cases table 1 retinal abnormalities three cases reminiscent reduced body size retinal anomalies cyclin d1 knockout mice7 8 therefore proliferation defect might partly responsible star syndrome address question carried knockdown fam58a mrna followed proliferation assay transfection hek293 cells three different fam58a specific rnai oligonucleotides resulted significant reduction fam58a mrna expression proliferation transfected cells supplementary methods supplementary fig 6 online supporting link fam58a cell proliferation found loss function mutations fam58a result rather homogeneous clinical phenotype additional anomalies case 1 likely result effect 40 kb deletion expression neighboring gene possibly atp2b3 dusp9 however cannot exclude homogeneous phenotype results ascertainment bias fam58a mutations including missense changes could result broader spectrum malformations genes causing overlapping phenotypes star syndrome townes brocks syndrome seem act pathway note mycn gene mutated feingold syndrome direct regulator cyclin d2 refs 10 11 thus worth exploring whether phenotypic similarities feingold star syndrome might explained direct regulation fam58a mycn fam58a located approximately 0 56 mb centromeric mecp2 xq28 duplications overlapping mecp2 fam58a described associated clinical phenotype females12 deletions overlapping mecp2 fam58a observed date13 although genes fam58a mecp2 implicated brain development fam58a mecp2 genes region known result x linked dominant phenotypes thus deletion genes allele might lethal males females  85 2629'"
            ]
          },
          "metadata": {
            "tags": []
          },
          "execution_count": 14
        }
      ]
    },
    {
      "cell_type": "code",
      "metadata": {
        "id": "AZnj8w0K80Fg"
      },
      "source": [
        "cleaned_text=result['Text-final'].values"
      ],
      "execution_count": null,
      "outputs": []
    },
    {
      "cell_type": "code",
      "metadata": {
        "id": "qrhTmt2g84js"
      },
      "source": [
        "all_words=[]\n",
        "for sentence in cleaned_text:\n",
        "    words = sentence.split()\n",
        "    all_words += words"
      ],
      "execution_count": null,
      "outputs": []
    },
    {
      "cell_type": "code",
      "metadata": {
        "id": "QiC5KYr-86PA"
      },
      "source": [
        "counts = Counter(all_words)"
      ],
      "execution_count": null,
      "outputs": []
    },
    {
      "cell_type": "code",
      "metadata": {
        "id": "y-G_hpEM87z5"
      },
      "source": [
        "vocabulary = len(counts.most_common()) + 1"
      ],
      "execution_count": null,
      "outputs": []
    },
    {
      "cell_type": "code",
      "metadata": {
        "colab": {
          "base_uri": "https://localhost:8080/"
        },
        "id": "4XSL5-rH89kn",
        "outputId": "494aae0d-eec3-4091-b8ba-60215abce562"
      },
      "source": [
        "top_words=counts.most_common(20000)\n",
        "print(len(top_words))"
      ],
      "execution_count": null,
      "outputs": [
        {
          "output_type": "stream",
          "text": [
            "20000\n"
          ],
          "name": "stdout"
        }
      ]
    },
    {
      "cell_type": "code",
      "metadata": {
        "id": "HEuChDgo9AIM"
      },
      "source": [
        "word_index_lookup = dict()\n",
        "i = 1\n",
        "for word,frequency in top_words:\n",
        "    word_index_lookup[word] = i\n",
        "    i += 1"
      ],
      "execution_count": null,
      "outputs": []
    },
    {
      "cell_type": "code",
      "metadata": {
        "colab": {
          "base_uri": "https://localhost:8080/"
        },
        "id": "b524TIWx9CHQ",
        "outputId": "a854251f-faae-4f1f-b654-2e7f23413e6d"
      },
      "source": [
        "print(\"Top 25 words with their frequencies:\")\n",
        "print(counts.most_common(50))"
      ],
      "execution_count": null,
      "outputs": [
        {
          "output_type": "stream",
          "text": [
            "Top 25 words with their frequencies:\n",
            "[('mutations', 238168), ('1', 215000), ('cells', 185832), ('2', 154200), ('3', 135269), ('cell', 126657), ('mutation', 105671), ('5', 104867), ('et', 104597), ('fig', 104569), ('al', 104412), ('0', 102305), ('c', 101888), ('cancer', 99162), ('figure', 98445), ('patients', 86447), ('4', 84963), ('protein', 84720), ('expression', 77652), ('activity', 76677), ('mutant', 73387), ('type', 72468), ('tumor', 69514), ('also', 66358), ('variants', 66177), ('kinase', 65798), ('domain', 65388), ('using', 63497), ('binding', 62832), ('gene', 61393), ('brca1', 61344), ('data', 60266), ('p', 59880), ('analysis', 58962), ('b', 57531), ('wild', 56951), ('dna', 56315), ('10', 56197), ('egfr', 54761), ('6', 54140), ('tumors', 53256), ('mutants', 53190), ('two', 52285), ('table', 51861), ('activation', 50169), ('may', 49437), ('7', 47985), ('results', 45962), ('shown', 43895), ('8', 43626)]\n"
          ],
          "name": "stdout"
        }
      ]
    },
    {
      "cell_type": "code",
      "metadata": {
        "colab": {
          "base_uri": "https://localhost:8080/",
          "height": 204
        },
        "id": "3myDaPoV9Dv9",
        "outputId": "42601a17-c4c0-49d1-d973-361c2c9f1a74"
      },
      "source": [
        "def ranking(row):  \n",
        "    buffer = []\n",
        "    for word in row['Text-final'].split():\n",
        "        if word in word_index_lookup:\n",
        "            buffer.append(word_index_lookup[word]) \n",
        "        else:\n",
        "            buffer.append(0)            \n",
        "    return buffer\n",
        "\n",
        "\n",
        "result['CleanedText_Index'] = result.apply(lambda row: ranking(row),axis=1)\n",
        "result.head(5)"
      ],
      "execution_count": null,
      "outputs": [
        {
          "output_type": "execute_result",
          "data": {
            "text/html": [
              "<div>\n",
              "<style scoped>\n",
              "    .dataframe tbody tr th:only-of-type {\n",
              "        vertical-align: middle;\n",
              "    }\n",
              "\n",
              "    .dataframe tbody tr th {\n",
              "        vertical-align: top;\n",
              "    }\n",
              "\n",
              "    .dataframe thead th {\n",
              "        text-align: right;\n",
              "    }\n",
              "</style>\n",
              "<table border=\"1\" class=\"dataframe\">\n",
              "  <thead>\n",
              "    <tr style=\"text-align: right;\">\n",
              "      <th></th>\n",
              "      <th>ID</th>\n",
              "      <th>Gene</th>\n",
              "      <th>Variation</th>\n",
              "      <th>Class</th>\n",
              "      <th>TEXT</th>\n",
              "      <th>Text-final</th>\n",
              "      <th>CleanedText_Index</th>\n",
              "    </tr>\n",
              "  </thead>\n",
              "  <tbody>\n",
              "    <tr>\n",
              "      <th>0</th>\n",
              "      <td>0</td>\n",
              "      <td>85</td>\n",
              "      <td>2629</td>\n",
              "      <td>1</td>\n",
              "      <td>cyclin dependent kinases cdks regulate variety...</td>\n",
              "      <td>cyclin dependent kinases cdks regulate variety...</td>\n",
              "      <td>[271, 187, 383, 4380, 1169, 1292, 4297, 305, 1...</td>\n",
              "    </tr>\n",
              "    <tr>\n",
              "      <th>1</th>\n",
              "      <td>1</td>\n",
              "      <td>39</td>\n",
              "      <td>2856</td>\n",
              "      <td>2</td>\n",
              "      <td>abstract background non small cell lung cancer...</td>\n",
              "      <td>abstract background non small cell lung cancer...</td>\n",
              "      <td>[2925, 1378, 209, 191, 6, 142, 14, 328, 2307, ...</td>\n",
              "    </tr>\n",
              "    <tr>\n",
              "      <th>2</th>\n",
              "      <td>2</td>\n",
              "      <td>39</td>\n",
              "      <td>1897</td>\n",
              "      <td>2</td>\n",
              "      <td>abstract background non small cell lung cancer...</td>\n",
              "      <td>abstract background non small cell lung cancer...</td>\n",
              "      <td>[2925, 1378, 209, 191, 6, 142, 14, 328, 2307, ...</td>\n",
              "    </tr>\n",
              "    <tr>\n",
              "      <th>3</th>\n",
              "      <td>3</td>\n",
              "      <td>39</td>\n",
              "      <td>1667</td>\n",
              "      <td>3</td>\n",
              "      <td>recent evidence demonstrated acquired uniparen...</td>\n",
              "      <td>recent evidence demonstrated acquired uniparen...</td>\n",
              "      <td>[475, 275, 364, 753, 15273, 10998, 7564, 395, ...</td>\n",
              "    </tr>\n",
              "    <tr>\n",
              "      <th>4</th>\n",
              "      <td>4</td>\n",
              "      <td>39</td>\n",
              "      <td>1447</td>\n",
              "      <td>4</td>\n",
              "      <td>oncogenic mutations monomeric casitas b lineag...</td>\n",
              "      <td>oncogenic mutations monomeric casitas b lineag...</td>\n",
              "      <td>[199, 1, 5708, 0, 35, 1959, 947, 552, 30, 62, ...</td>\n",
              "    </tr>\n",
              "  </tbody>\n",
              "</table>\n",
              "</div>"
            ],
            "text/plain": [
              "   ID  ...                                  CleanedText_Index\n",
              "0   0  ...  [271, 187, 383, 4380, 1169, 1292, 4297, 305, 1...\n",
              "1   1  ...  [2925, 1378, 209, 191, 6, 142, 14, 328, 2307, ...\n",
              "2   2  ...  [2925, 1378, 209, 191, 6, 142, 14, 328, 2307, ...\n",
              "3   3  ...  [475, 275, 364, 753, 15273, 10998, 7564, 395, ...\n",
              "4   4  ...  [199, 1, 5708, 0, 35, 1959, 947, 552, 30, 62, ...\n",
              "\n",
              "[5 rows x 7 columns]"
            ]
          },
          "metadata": {
            "tags": []
          },
          "execution_count": 41
        }
      ]
    },
    {
      "cell_type": "code",
      "metadata": {
        "id": "uGqrtLX29FxW"
      },
      "source": [
        "\n",
        "x_train, x_test, y_train, y_test = train_test_split(result['CleanedText_Index'].values,result['Class'], test_size=0.3,shuffle=False,random_state=0)\n",
        "                                                    \n",
        "                                                           \n",
        "                                                            \n",
        "                                                            "
      ],
      "execution_count": null,
      "outputs": []
    },
    {
      "cell_type": "code",
      "metadata": {
        "id": "CIRdZfGp9IQW"
      },
      "source": [
        "from keras.models import Sequential\n",
        "from keras.layers import Dense\n",
        "from keras.layers import LSTM\n",
        "from keras.layers.embeddings import Embedding\n",
        "from keras.preprocessing import sequence\n",
        "from keras.layers import Dropout\n",
        "# fix random seed for reproducibility\n",
        "np.random.seed(7)"
      ],
      "execution_count": null,
      "outputs": []
    },
    {
      "cell_type": "code",
      "metadata": {
        "id": "OuNwgyDjLAxK"
      },
      "source": [
        "from keras.utils import np_utils\n",
        "y_train=np_utils.to_categorical(y_train)\n",
        "y_test=np_utils.to_categorical(y_test)"
      ],
      "execution_count": null,
      "outputs": []
    },
    {
      "cell_type": "markdown",
      "metadata": {
        "id": "6DfupnUDYqgB"
      },
      "source": [
        "**Padding on Data**"
      ]
    },
    {
      "cell_type": "code",
      "metadata": {
        "colab": {
          "base_uri": "https://localhost:8080/"
        },
        "id": "UNDhWZ149Klf",
        "outputId": "15234134-2c76-4d69-b568-72ff388ff472"
      },
      "source": [
        "max_review_length = 375\n",
        "x_train = sequence.pad_sequences(x_train, maxlen=max_review_length)\n",
        "x_test = sequence.pad_sequences(x_test, maxlen=max_review_length)\n",
        "\n",
        "print(\"Total number words present in first review after padding:\\n\",len(x_train[1]))\n",
        "print()\n",
        "print(\"List of word indexes present in first review padding:\\n\", x_train[1])\n",
        "print()"
      ],
      "execution_count": null,
      "outputs": [
        {
          "output_type": "stream",
          "text": [
            "Total number words present in first review after padding:\n",
            " 375\n",
            "\n",
            "List of word indexes present in first review padding:\n",
            " [   62   184    96   104  1490   215    39     1   726    47   142    23\n",
            "   104   186    13   552     1   226   254   186  1309    13   552   292\n",
            "  1100  2359    13   552   316   162   797   142    14   577  1100   632\n",
            "  3892   599   719  1251   381   491   350    56     7   215    39   868\n",
            "   918   485  1848  2543    46  1017   148  2308  1058  1100    13   552\n",
            "    48  4149     0  1848  1059   710 12369  2645    77   200   895   599\n",
            "   810   803   277   236   943   726    13   552   123   127    26    20\n",
            "  2765   895    23   273   381   491   350    13   552  1100   141    24\n",
            "   677   127    19    13   552   283  8038   122   283     0   141   323\n",
            "  7205  5321   270    13   552    70   162   588 18616   386   632   327\n",
            "    79  5243  1089    49  5003  7780   142   146   807   102  1341   532\n",
            "    64     1  2645    39   215   404   728  3394    16   232   215     7\n",
            "    60   583   129 19480  1731    27   336  1230    20    13   552   638\n",
            "    65    24    62    45   215  2193  2020    39   265   354    30     1\n",
            "   638  1118  1102     1   184   980   142    23   104   252  4773  9086\n",
            "    66   330  3984    66   140    16    53   215     7    60   625   174\n",
            "     2     5    39     1    60  4773   981  3984  2149   212    39     1\n",
            "  1924    60    53   681     1  1030   142   699    16  1359    65  6378\n",
            "    16   538    65  8519    81 11424   328    77   618   705  1857     1\n",
            "    13   552   215  1861    65  9249    81  1415   328   221   846   377\n",
            "    49   215     1   142    14   601   385   404    93  1924    13   552\n",
            "     1   191   728  8614   142    14   104   263  2150  1828  2955   448\n",
            "   142     0    24  6531 17268   198   373  4244 12794   316   161   142\n",
            "   146    77  4387    19     1    52   142    23   104  4773  9086    65\n",
            "   246   807   102   286    13   552     1   142   146  1537   243     6\n",
            "    22   260  8093  1177   260  4773  9086   205  2329    13   552  7443\n",
            "   213   142   146  4773  9086  4771 16427   221  1414  4773  9086   142\n",
            "    14  1537  3074  1130  5735   111  3984  4700   636  1508    48   983\n",
            "    65   871    13   552   579   162   528  1750   142   146    48   770\n",
            "   148    13   552    42   176  1059    20   438   807   102     7   897\n",
            "    13   552    88  2645   215    39   186   805   131   141  4724  1714\n",
            "   810   538     0]\n",
            "\n"
          ],
          "name": "stdout"
        }
      ]
    },
    {
      "cell_type": "code",
      "metadata": {
        "colab": {
          "base_uri": "https://localhost:8080/"
        },
        "id": "U0ZsRzHjLjzt",
        "outputId": "1ca48257-a252-47d2-b890-d101458ed65b"
      },
      "source": [
        "x_test.shape"
      ],
      "execution_count": null,
      "outputs": [
        {
          "output_type": "execute_result",
          "data": {
            "text/plain": [
              "(997, 375)"
            ]
          },
          "metadata": {
            "tags": []
          },
          "execution_count": 64
        }
      ]
    },
    {
      "cell_type": "code",
      "metadata": {
        "colab": {
          "base_uri": "https://localhost:8080/"
        },
        "id": "2i7eW5CjLoPz",
        "outputId": "2583cf7a-1907-46b2-eb41-39cce2d8e017"
      },
      "source": [
        "y_test.shape"
      ],
      "execution_count": null,
      "outputs": [
        {
          "output_type": "execute_result",
          "data": {
            "text/plain": [
              "(997, 10)"
            ]
          },
          "metadata": {
            "tags": []
          },
          "execution_count": 69
        }
      ]
    },
    {
      "cell_type": "markdown",
      "metadata": {
        "id": "aaS4bgwpYuFo"
      },
      "source": [
        "**LSTM Model**"
      ]
    },
    {
      "cell_type": "code",
      "metadata": {
        "colab": {
          "base_uri": "https://localhost:8080/"
        },
        "id": "2NYt2VLX9NWz",
        "outputId": "121047a5-94ae-4b7e-b242-89d2e15ff892"
      },
      "source": [
        "embedding_vecor_length = 100\n",
        "model = Sequential()\n",
        "model.add(Embedding(vocabulary, embedding_vecor_length, input_length=max_review_length))\n",
        "model.add(LSTM(100,dropout=0.2))\n",
        "model.add(Dense(10, activation='sigmoid'))\n",
        "model.compile(loss='categorical_crossentropy', optimizer='adam', metrics=['accuracy'])\n",
        "print(model.summary())"
      ],
      "execution_count": null,
      "outputs": [
        {
          "output_type": "stream",
          "text": [
            "Model: \"sequential_14\"\n",
            "_________________________________________________________________\n",
            "Layer (type)                 Output Shape              Param #   \n",
            "=================================================================\n",
            "embedding_13 (Embedding)     (None, 375, 100)          3737600   \n",
            "_________________________________________________________________\n",
            "lstm_14 (LSTM)               (None, 100)               80400     \n",
            "_________________________________________________________________\n",
            "dense_14 (Dense)             (None, 10)                1010      \n",
            "=================================================================\n",
            "Total params: 3,819,010\n",
            "Trainable params: 3,819,010\n",
            "Non-trainable params: 0\n",
            "_________________________________________________________________\n",
            "None\n"
          ],
          "name": "stdout"
        }
      ]
    },
    {
      "cell_type": "code",
      "metadata": {
        "id": "v3UFxvwa9a34"
      },
      "source": [
        "#model.compile(loss='categorical_crossentropy', optimizer='adam', metrics=['accuracy'])"
      ],
      "execution_count": null,
      "outputs": []
    },
    {
      "cell_type": "code",
      "metadata": {
        "colab": {
          "base_uri": "https://localhost:8080/"
        },
        "id": "G0wT1rxM9ePg",
        "outputId": "54eacea1-5359-4954-b289-fb3c6de249ea"
      },
      "source": [
        "history = model.fit(x_train, y_train, epochs=10, batch_size=10,validation_data=(x_test, y_test))"
      ],
      "execution_count": null,
      "outputs": [
        {
          "output_type": "stream",
          "text": [
            "Epoch 1/10\n",
            "233/233 [==============================] - 67s 289ms/step - loss: 1.7776 - accuracy: 0.2883 - val_loss: 2.0321 - val_accuracy: 0.2839\n",
            "Epoch 2/10\n",
            "233/233 [==============================] - 67s 287ms/step - loss: 1.4078 - accuracy: 0.4613 - val_loss: 2.1867 - val_accuracy: 0.1896\n",
            "Epoch 3/10\n",
            "233/233 [==============================] - 68s 290ms/step - loss: 1.0343 - accuracy: 0.6248 - val_loss: 2.1347 - val_accuracy: 0.2197\n",
            "Epoch 4/10\n",
            "233/233 [==============================] - 67s 287ms/step - loss: 0.8688 - accuracy: 0.7027 - val_loss: 2.1389 - val_accuracy: 0.2106\n",
            "Epoch 5/10\n",
            "233/233 [==============================] - 67s 288ms/step - loss: 0.7429 - accuracy: 0.7470 - val_loss: 2.7473 - val_accuracy: 0.1836\n",
            "Epoch 6/10\n",
            "233/233 [==============================] - 67s 287ms/step - loss: 0.6841 - accuracy: 0.7651 - val_loss: 2.7031 - val_accuracy: 0.1936\n",
            "Epoch 7/10\n",
            "233/233 [==============================] - 68s 290ms/step - loss: 0.6210 - accuracy: 0.7788 - val_loss: 2.2004 - val_accuracy: 0.1976\n",
            "Epoch 8/10\n",
            "233/233 [==============================] - 67s 289ms/step - loss: 0.5836 - accuracy: 0.7973 - val_loss: 2.5772 - val_accuracy: 0.2146\n",
            "Epoch 9/10\n",
            "233/233 [==============================] - 68s 290ms/step - loss: 0.5630 - accuracy: 0.7909 - val_loss: 3.1160 - val_accuracy: 0.2056\n",
            "Epoch 10/10\n",
            "233/233 [==============================] - 67s 286ms/step - loss: 0.5410 - accuracy: 0.8038 - val_loss: 3.2140 - val_accuracy: 0.1986\n"
          ],
          "name": "stdout"
        }
      ]
    },
    {
      "cell_type": "code",
      "metadata": {
        "id": "td1vtWyoOyg9"
      },
      "source": [
        "def plt_dynamic(x, vy, ty, ax, colors=['b']):\n",
        "    ax.plot(x, vy, 'b', label=\"Validation Loss\")\n",
        "    ax.plot(x, ty, 'r', label=\"Train Loss\")\n",
        "    plt.legend()\n",
        "    plt.grid()\n",
        "    fig.canvas.draw()"
      ],
      "execution_count": null,
      "outputs": []
    },
    {
      "cell_type": "code",
      "metadata": {
        "colab": {
          "base_uri": "https://localhost:8080/",
          "height": 313
        },
        "id": "tUJ-oa3k9jkh",
        "outputId": "5770bd72-3120-459c-d19c-5d471a69f360"
      },
      "source": [
        "score = model.evaluate(x_test, y_test, verbose=0) \n",
        "print('Test loss:', score[0]) \n",
        "print('Test accuracy:', score[1])\n",
        "epochs = 10\n",
        "\n",
        "fig,ax = plt.subplots(1,1)\n",
        "ax.set_xlabel('epoch') ; ax.set_ylabel('Categorical Crossentropy Loss')\n",
        "\n",
        "# list of epoch numbers\n",
        "x = list(range(1,epochs+1))\n",
        "vy = history.history['val_loss']\n",
        "ty = history.history['loss']\n",
        "plt_dynamic(x, vy, ty, ax)"
      ],
      "execution_count": null,
      "outputs": [
        {
          "output_type": "stream",
          "text": [
            "Test loss: 3.2139739990234375\n",
            "Test accuracy: 0.19859579205513\n"
          ],
          "name": "stdout"
        },
        {
          "output_type": "display_data",
          "data": {
            "image/png": "[encoded data removed]",
            "text/plain": [
              "<Figure size 432x288 with 1 Axes>"
            ]
          },
          "metadata": {
            "tags": [],
            "needs_background": "light"
          }
        }
      ]
    },
    {
      "cell_type": "code",
      "metadata": {
        "id": "8Uy_OKYTOhok"
      },
      "source": [
        "import tensorflow as tf\n",
        "from tensorflow.keras.preprocessing.text import Tokenizer\n",
        "from tensorflow.keras.preprocessing.sequence import pad_sequences\n",
        "from tensorflow.keras.models import Sequential\n",
        "from tensorflow.keras.layers import Embedding, Dense, GRU, Dropout, Bidirectional, SpatialDropout1D\n",
        "from tensorflow.keras.utils import to_categorical"
      ],
      "execution_count": null,
      "outputs": []
    },
    {
      "cell_type": "markdown",
      "metadata": {
        "id": "Fy64pJrwYyIv"
      },
      "source": [
        "**Bi-Directional RNN**"
      ]
    },
    {
      "cell_type": "code",
      "metadata": {
        "id": "wShBzR8GQMmh"
      },
      "source": [
        "EMBEDDING_DIM = 10\n",
        "\n",
        "model = Sequential()\n",
        "model.add(Embedding(vocabulary, EMBEDDING_DIM, input_length=max_review_length))\n",
        "model.add(Bidirectional(GRU(100)))\n",
        "model.add(Dense(56, activation='relu'))\n",
        "model.add(Dropout(0.2))\n",
        "model.add(Dense(10, activation='softmax'))\n",
        "model.compile(loss='categorical_crossentropy', optimizer='adam', metrics=['accuracy'])\n",
        "\n"
      ],
      "execution_count": null,
      "outputs": []
    },
    {
      "cell_type": "code",
      "metadata": {
        "colab": {
          "base_uri": "https://localhost:8080/"
        },
        "id": "Nnca--1yQYyU",
        "outputId": "a03447cb-cc9d-40fe-9ae6-a9c37a7badea"
      },
      "source": [
        "model.summary()"
      ],
      "execution_count": null,
      "outputs": [
        {
          "output_type": "stream",
          "text": [
            "Model: \"sequential_5\"\n",
            "_________________________________________________________________\n",
            "Layer (type)                 Output Shape              Param #   \n",
            "=================================================================\n",
            "embedding_5 (Embedding)      (None, 375, 10)           1563320   \n",
            "_________________________________________________________________\n",
            "bidirectional_5 (Bidirection (None, 200)               67200     \n",
            "_________________________________________________________________\n",
            "dense_10 (Dense)             (None, 56)                11256     \n",
            "_________________________________________________________________\n",
            "dropout_5 (Dropout)          (None, 56)                0         \n",
            "_________________________________________________________________\n",
            "dense_11 (Dense)             (None, 10)                570       \n",
            "=================================================================\n",
            "Total params: 1,642,346\n",
            "Trainable params: 1,642,346\n",
            "Non-trainable params: 0\n",
            "_________________________________________________________________\n"
          ],
          "name": "stdout"
        }
      ]
    },
    {
      "cell_type": "code",
      "metadata": {
        "colab": {
          "base_uri": "https://localhost:8080/"
        },
        "id": "pboz6C0WTdr9",
        "outputId": "24adef9b-f6dd-4c0b-8694-74fa3dd55fc6"
      },
      "source": [
        "history = model.fit(x_train, y_train, epochs=20, batch_size=20,validation_data=(x_test, y_test))"
      ],
      "execution_count": null,
      "outputs": [
        {
          "output_type": "stream",
          "text": [
            "Epoch 1/20\n",
            "117/117 [==============================] - 38s 325ms/step - loss: 0.4243 - accuracy: 0.8188 - val_loss: 3.4534 - val_accuracy: 0.2217\n",
            "Epoch 2/20\n",
            "117/117 [==============================] - 38s 325ms/step - loss: 0.4221 - accuracy: 0.8206 - val_loss: 3.2158 - val_accuracy: 0.2227\n",
            "Epoch 3/20\n",
            "117/117 [==============================] - 38s 324ms/step - loss: 0.4225 - accuracy: 0.8180 - val_loss: 3.4436 - val_accuracy: 0.2287\n",
            "Epoch 4/20\n",
            "117/117 [==============================] - 38s 324ms/step - loss: 0.4136 - accuracy: 0.8176 - val_loss: 3.4454 - val_accuracy: 0.2106\n",
            "Epoch 5/20\n",
            "117/117 [==============================] - 38s 324ms/step - loss: 0.4147 - accuracy: 0.8236 - val_loss: 3.4230 - val_accuracy: 0.2156\n",
            "Epoch 6/20\n",
            "117/117 [==============================] - 38s 324ms/step - loss: 0.4015 - accuracy: 0.8249 - val_loss: 3.4799 - val_accuracy: 0.1936\n",
            "Epoch 7/20\n",
            "117/117 [==============================] - 38s 324ms/step - loss: 0.4141 - accuracy: 0.8279 - val_loss: 3.3907 - val_accuracy: 0.1996\n",
            "Epoch 8/20\n",
            "117/117 [==============================] - 38s 326ms/step - loss: 0.4050 - accuracy: 0.8262 - val_loss: 3.3840 - val_accuracy: 0.2056\n",
            "Epoch 9/20\n",
            "117/117 [==============================] - 38s 324ms/step - loss: 0.4121 - accuracy: 0.8141 - val_loss: 3.4755 - val_accuracy: 0.2146\n",
            "Epoch 10/20\n",
            "117/117 [==============================] - 38s 324ms/step - loss: 0.4010 - accuracy: 0.8253 - val_loss: 3.6796 - val_accuracy: 0.2006\n",
            "Epoch 11/20\n",
            "117/117 [==============================] - 38s 329ms/step - loss: 0.3923 - accuracy: 0.8244 - val_loss: 3.7777 - val_accuracy: 0.1956\n",
            "Epoch 12/20\n",
            "117/117 [==============================] - 38s 324ms/step - loss: 0.3905 - accuracy: 0.8270 - val_loss: 3.7730 - val_accuracy: 0.2046\n",
            "Epoch 13/20\n",
            "117/117 [==============================] - 38s 324ms/step - loss: 0.3915 - accuracy: 0.8197 - val_loss: 3.7405 - val_accuracy: 0.2006\n",
            "Epoch 14/20\n",
            "117/117 [==============================] - 38s 324ms/step - loss: 0.3869 - accuracy: 0.8210 - val_loss: 3.6432 - val_accuracy: 0.2056\n",
            "Epoch 15/20\n",
            "117/117 [==============================] - 38s 324ms/step - loss: 0.3844 - accuracy: 0.8227 - val_loss: 3.7246 - val_accuracy: 0.1976\n",
            "Epoch 16/20\n",
            "117/117 [==============================] - 38s 326ms/step - loss: 0.3768 - accuracy: 0.8253 - val_loss: 3.7900 - val_accuracy: 0.2016\n",
            "Epoch 17/20\n",
            "117/117 [==============================] - 38s 325ms/step - loss: 0.3795 - accuracy: 0.8322 - val_loss: 3.7902 - val_accuracy: 0.1926\n",
            "Epoch 18/20\n",
            "117/117 [==============================] - 38s 324ms/step - loss: 0.3738 - accuracy: 0.8343 - val_loss: 4.0971 - val_accuracy: 0.2197\n",
            "Epoch 19/20\n",
            "117/117 [==============================] - 38s 325ms/step - loss: 0.3739 - accuracy: 0.8348 - val_loss: 4.0708 - val_accuracy: 0.2036\n",
            "Epoch 20/20\n",
            "117/117 [==============================] - 38s 324ms/step - loss: 0.3762 - accuracy: 0.8300 - val_loss: 4.2123 - val_accuracy: 0.2006\n"
          ],
          "name": "stdout"
        }
      ]
    },
    {
      "cell_type": "code",
      "metadata": {
        "colab": {
          "base_uri": "https://localhost:8080/",
          "height": 313
        },
        "id": "EN1noSv2Tr9L",
        "outputId": "949d2c70-6a44-4ac4-9916-b82af7492e87"
      },
      "source": [
        "score = model.evaluate(x_test, y_test, verbose=0) \n",
        "print('Test loss:', score[0]) \n",
        "print('Test accuracy:', score[1])\n",
        "epochs = 20\n",
        "\n",
        "fig,ax = plt.subplots(1,1)\n",
        "ax.set_xlabel('epoch') ; ax.set_ylabel('Categorical Crossentropy Loss')\n",
        "\n",
        "# list of epoch numbers\n",
        "x = list(range(1,epochs+1))\n",
        "vy = history.history['val_loss']\n",
        "ty = history.history['loss']\n",
        "plt_dynamic(x, vy, ty, ax)"
      ],
      "execution_count": null,
      "outputs": [
        {
          "output_type": "stream",
          "text": [
            "Test loss: 4.212344169616699\n",
            "Test accuracy: 0.20060180127620697\n"
          ],
          "name": "stdout"
        },
        {
          "output_type": "display_data",
          "data": {
            "image/png": "[encoded data removed]",
            "text/plain": [
              "<Figure size 432x288 with 1 Axes>"
            ]
          },
          "metadata": {
            "tags": [],
            "needs_background": "light"
          }
        }
      ]
    },
    {
      "cell_type": "code",
      "metadata": {
        "id": "Rcd2g--nWR0n"
      },
      "source": [
        ""
      ],
      "execution_count": null,
      "outputs": []
    }
  ]
}